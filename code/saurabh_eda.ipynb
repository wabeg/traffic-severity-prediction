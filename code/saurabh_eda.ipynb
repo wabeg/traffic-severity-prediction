{
 "cells": [
  {
   "cell_type": "code",
   "execution_count": 2,
   "id": "34c9cc7d-c105-44f8-babf-a25640158941",
   "metadata": {},
   "outputs": [],
   "source": [
    "# import requried libraries\n",
    "import pandas as pd\n",
    "import matplotlib.pyplot as plt\n",
    "import matplotlib.ticker as ticker\n",
    "from datetime import datetime\n",
    "import seaborn as sns\n",
    "import warnings\n",
    "warnings.filterwarnings('ignore')"
   ]
  },
  {
   "cell_type": "code",
   "execution_count": 3,
   "id": "d5a22b62-4eb9-40a6-bb7b-e0c783c30733",
   "metadata": {},
   "outputs": [],
   "source": [
    "# load the dataset\n",
    "df = pd.read_csv('C:\\\\Users\\\\Saurabh\\\\Desktop\\\\dsidelta\\\\project-4-new\\\\data\\\\cleaned_df.csv', index_col = False)"
   ]
  },
  {
   "cell_type": "code",
   "execution_count": 4,
   "id": "9e5ffcaa-110e-42b4-8d74-74d93de229f7",
   "metadata": {},
   "outputs": [
    {
     "data": {
      "text/html": [
       "<div>\n",
       "<style scoped>\n",
       "    .dataframe tbody tr th:only-of-type {\n",
       "        vertical-align: middle;\n",
       "    }\n",
       "\n",
       "    .dataframe tbody tr th {\n",
       "        vertical-align: top;\n",
       "    }\n",
       "\n",
       "    .dataframe thead th {\n",
       "        text-align: right;\n",
       "    }\n",
       "</style>\n",
       "<table border=\"1\" class=\"dataframe\">\n",
       "  <thead>\n",
       "    <tr style=\"text-align: right;\">\n",
       "      <th></th>\n",
       "      <th>Unnamed: 0</th>\n",
       "      <th>Severity</th>\n",
       "      <th>Start_Time</th>\n",
       "      <th>Start_Lat</th>\n",
       "      <th>Start_Lng</th>\n",
       "      <th>Street</th>\n",
       "      <th>Side</th>\n",
       "      <th>City</th>\n",
       "      <th>County</th>\n",
       "      <th>State</th>\n",
       "      <th>...</th>\n",
       "      <th>Junction</th>\n",
       "      <th>No_Exit</th>\n",
       "      <th>Railway</th>\n",
       "      <th>Roundabout</th>\n",
       "      <th>Station</th>\n",
       "      <th>Stop</th>\n",
       "      <th>Traffic_Calming</th>\n",
       "      <th>Traffic_Signal</th>\n",
       "      <th>Turning_Loop</th>\n",
       "      <th>Sunrise_Sunset</th>\n",
       "    </tr>\n",
       "  </thead>\n",
       "  <tbody>\n",
       "    <tr>\n",
       "      <th>0</th>\n",
       "      <td>0</td>\n",
       "      <td>3</td>\n",
       "      <td>2016-02-08 00:37:08</td>\n",
       "      <td>40.108910</td>\n",
       "      <td>-83.092860</td>\n",
       "      <td>Outerbelt E</td>\n",
       "      <td>R</td>\n",
       "      <td>Dublin</td>\n",
       "      <td>Franklin</td>\n",
       "      <td>OH</td>\n",
       "      <td>...</td>\n",
       "      <td>False</td>\n",
       "      <td>False</td>\n",
       "      <td>False</td>\n",
       "      <td>False</td>\n",
       "      <td>False</td>\n",
       "      <td>False</td>\n",
       "      <td>False</td>\n",
       "      <td>False</td>\n",
       "      <td>False</td>\n",
       "      <td>Night</td>\n",
       "    </tr>\n",
       "    <tr>\n",
       "      <th>1</th>\n",
       "      <td>1</td>\n",
       "      <td>2</td>\n",
       "      <td>2016-02-08 05:56:20</td>\n",
       "      <td>39.865420</td>\n",
       "      <td>-84.062800</td>\n",
       "      <td>I-70 E</td>\n",
       "      <td>R</td>\n",
       "      <td>Dayton</td>\n",
       "      <td>Montgomery</td>\n",
       "      <td>OH</td>\n",
       "      <td>...</td>\n",
       "      <td>False</td>\n",
       "      <td>False</td>\n",
       "      <td>False</td>\n",
       "      <td>False</td>\n",
       "      <td>False</td>\n",
       "      <td>False</td>\n",
       "      <td>False</td>\n",
       "      <td>False</td>\n",
       "      <td>False</td>\n",
       "      <td>Night</td>\n",
       "    </tr>\n",
       "    <tr>\n",
       "      <th>2</th>\n",
       "      <td>2</td>\n",
       "      <td>2</td>\n",
       "      <td>2016-02-08 06:15:39</td>\n",
       "      <td>39.102660</td>\n",
       "      <td>-84.524680</td>\n",
       "      <td>I-75 S</td>\n",
       "      <td>R</td>\n",
       "      <td>Cincinnati</td>\n",
       "      <td>Hamilton</td>\n",
       "      <td>OH</td>\n",
       "      <td>...</td>\n",
       "      <td>True</td>\n",
       "      <td>False</td>\n",
       "      <td>False</td>\n",
       "      <td>False</td>\n",
       "      <td>False</td>\n",
       "      <td>False</td>\n",
       "      <td>False</td>\n",
       "      <td>False</td>\n",
       "      <td>False</td>\n",
       "      <td>Night</td>\n",
       "    </tr>\n",
       "    <tr>\n",
       "      <th>3</th>\n",
       "      <td>3</td>\n",
       "      <td>2</td>\n",
       "      <td>2016-02-08 06:51:45</td>\n",
       "      <td>41.062130</td>\n",
       "      <td>-81.537840</td>\n",
       "      <td>I-77 N</td>\n",
       "      <td>R</td>\n",
       "      <td>Akron</td>\n",
       "      <td>Summit</td>\n",
       "      <td>OH</td>\n",
       "      <td>...</td>\n",
       "      <td>False</td>\n",
       "      <td>False</td>\n",
       "      <td>False</td>\n",
       "      <td>False</td>\n",
       "      <td>False</td>\n",
       "      <td>False</td>\n",
       "      <td>False</td>\n",
       "      <td>False</td>\n",
       "      <td>False</td>\n",
       "      <td>Night</td>\n",
       "    </tr>\n",
       "    <tr>\n",
       "      <th>4</th>\n",
       "      <td>4</td>\n",
       "      <td>3</td>\n",
       "      <td>2016-02-08 07:53:43</td>\n",
       "      <td>39.172393</td>\n",
       "      <td>-84.492792</td>\n",
       "      <td>I-75 S</td>\n",
       "      <td>R</td>\n",
       "      <td>Cincinnati</td>\n",
       "      <td>Hamilton</td>\n",
       "      <td>OH</td>\n",
       "      <td>...</td>\n",
       "      <td>False</td>\n",
       "      <td>False</td>\n",
       "      <td>False</td>\n",
       "      <td>False</td>\n",
       "      <td>False</td>\n",
       "      <td>False</td>\n",
       "      <td>False</td>\n",
       "      <td>False</td>\n",
       "      <td>False</td>\n",
       "      <td>Day</td>\n",
       "    </tr>\n",
       "  </tbody>\n",
       "</table>\n",
       "<p>5 rows × 32 columns</p>\n",
       "</div>"
      ],
      "text/plain": [
       "   Unnamed: 0  Severity           Start_Time  Start_Lat  Start_Lng  \\\n",
       "0           0         3  2016-02-08 00:37:08  40.108910 -83.092860   \n",
       "1           1         2  2016-02-08 05:56:20  39.865420 -84.062800   \n",
       "2           2         2  2016-02-08 06:15:39  39.102660 -84.524680   \n",
       "3           3         2  2016-02-08 06:51:45  41.062130 -81.537840   \n",
       "4           4         3  2016-02-08 07:53:43  39.172393 -84.492792   \n",
       "\n",
       "        Street Side        City      County State  ... Junction  No_Exit  \\\n",
       "0  Outerbelt E    R      Dublin    Franklin    OH  ...    False    False   \n",
       "1       I-70 E    R      Dayton  Montgomery    OH  ...    False    False   \n",
       "2       I-75 S    R  Cincinnati    Hamilton    OH  ...     True    False   \n",
       "3       I-77 N    R       Akron      Summit    OH  ...    False    False   \n",
       "4       I-75 S    R  Cincinnati    Hamilton    OH  ...    False    False   \n",
       "\n",
       "   Railway  Roundabout  Station   Stop  Traffic_Calming Traffic_Signal  \\\n",
       "0    False       False    False  False            False          False   \n",
       "1    False       False    False  False            False          False   \n",
       "2    False       False    False  False            False          False   \n",
       "3    False       False    False  False            False          False   \n",
       "4    False       False    False  False            False          False   \n",
       "\n",
       "   Turning_Loop  Sunrise_Sunset  \n",
       "0         False           Night  \n",
       "1         False           Night  \n",
       "2         False           Night  \n",
       "3         False           Night  \n",
       "4         False             Day  \n",
       "\n",
       "[5 rows x 32 columns]"
      ]
     },
     "execution_count": 4,
     "metadata": {},
     "output_type": "execute_result"
    }
   ],
   "source": [
    "# view first 5 rows\n",
    "df.head()"
   ]
  },
  {
   "cell_type": "markdown",
   "id": "5d5808d0-2d7a-434f-adf2-7ada1435bb5c",
   "metadata": {},
   "source": [
    "### Exploratory Data Analysis"
   ]
  },
  {
   "cell_type": "code",
   "execution_count": 5,
   "id": "58c12153-43bd-413e-bb12-33dc0637607e",
   "metadata": {},
   "outputs": [],
   "source": [
    "# below are the columns used for exploration of data analysis used in this notebook.\n",
    "columns = ['Temperature(F)',\n",
    "           'Humidity(%)', 'Pressure(in)', 'Visibility(mi)', \n",
    "           'Wind_Speed(mph)', 'Precipitation(in)',\n",
    "           'Amenity', 'Bump', 'Crossing']"
   ]
  },
  {
   "cell_type": "code",
   "execution_count": 6,
   "id": "008f98e1-f87e-44bc-a5f7-fe32a786657c",
   "metadata": {},
   "outputs": [],
   "source": [
    "#convert boolean columns to 0 and 1.\n",
    "for col in columns:\n",
    "    if df[col].dtypes == bool:\n",
    "        df[col]=df[col].apply(lambda x: 1 if x == True else 0)"
   ]
  },
  {
   "cell_type": "code",
   "execution_count": 7,
   "id": "73768d6e-813b-4c7f-9518-c84f69bdbc9e",
   "metadata": {},
   "outputs": [
    {
     "name": "stdout",
     "output_type": "stream",
     "text": [
      "Temperature(F) \n",
      "\n",
      "count    2.731050e+06\n",
      "mean     6.181444e+01\n",
      "std      1.857998e+01\n",
      "min     -3.300000e+01\n",
      "25%      5.000000e+01\n",
      "50%      6.400000e+01\n",
      "75%      7.600000e+01\n",
      "max      1.960000e+02\n",
      "Name: Temperature(F), dtype: float64\n",
      "\n",
      "\n",
      "Humidity(%) \n",
      "\n",
      "count    2.731050e+06\n",
      "mean     6.440027e+01\n",
      "std      2.285224e+01\n",
      "min      1.000000e+00\n",
      "25%      4.800000e+01\n",
      "50%      6.700000e+01\n",
      "75%      8.300000e+01\n",
      "max      1.000000e+02\n",
      "Name: Humidity(%), dtype: float64\n",
      "\n",
      "\n",
      "Pressure(in) \n",
      "\n",
      "count    2.731050e+06\n",
      "mean     2.947645e+01\n",
      "std      1.037208e+00\n",
      "min      2.000000e-02\n",
      "25%      2.932000e+01\n",
      "50%      2.982000e+01\n",
      "75%      3.001000e+01\n",
      "max      5.890000e+01\n",
      "Name: Pressure(in), dtype: float64\n",
      "\n",
      "\n",
      "Visibility(mi) \n",
      "\n",
      "count    2.731050e+06\n",
      "mean     9.099739e+00\n",
      "std      2.692817e+00\n",
      "min      0.000000e+00\n",
      "25%      1.000000e+01\n",
      "50%      1.000000e+01\n",
      "75%      1.000000e+01\n",
      "max      1.400000e+02\n",
      "Name: Visibility(mi), dtype: float64\n",
      "\n",
      "\n",
      "Wind_Speed(mph) \n",
      "\n",
      "count    2.731050e+06\n",
      "mean     7.194677e+00\n",
      "std      5.561834e+00\n",
      "min      0.000000e+00\n",
      "25%      3.000000e+00\n",
      "50%      7.000000e+00\n",
      "75%      1.000000e+01\n",
      "max      1.087000e+03\n",
      "Name: Wind_Speed(mph), dtype: float64\n",
      "\n",
      "\n",
      "Precipitation(in) \n",
      "\n",
      "count    2.731050e+06\n",
      "mean     5.641744e-03\n",
      "std      6.970728e-02\n",
      "min      0.000000e+00\n",
      "25%      0.000000e+00\n",
      "50%      0.000000e+00\n",
      "75%      0.000000e+00\n",
      "max      2.400000e+01\n",
      "Name: Precipitation(in), dtype: float64\n",
      "\n",
      "\n",
      "Amenity \n",
      "\n",
      "count    2.731050e+06\n",
      "mean     9.766207e-03\n",
      "std      9.834039e-02\n",
      "min      0.000000e+00\n",
      "25%      0.000000e+00\n",
      "50%      0.000000e+00\n",
      "75%      0.000000e+00\n",
      "max      1.000000e+00\n",
      "Name: Amenity, dtype: float64\n",
      "\n",
      "\n",
      "Bump \n",
      "\n",
      "count    2.731050e+06\n",
      "mean     3.635964e-04\n",
      "std      1.906474e-02\n",
      "min      0.000000e+00\n",
      "25%      0.000000e+00\n",
      "50%      0.000000e+00\n",
      "75%      0.000000e+00\n",
      "max      1.000000e+00\n",
      "Name: Bump, dtype: float64\n",
      "\n",
      "\n",
      "Crossing \n",
      "\n",
      "count    2.731050e+06\n",
      "mean     7.117995e-02\n",
      "std      2.571252e-01\n",
      "min      0.000000e+00\n",
      "25%      0.000000e+00\n",
      "50%      0.000000e+00\n",
      "75%      0.000000e+00\n",
      "max      1.000000e+00\n",
      "Name: Crossing, dtype: float64\n",
      "\n",
      "\n"
     ]
    }
   ],
   "source": [
    "# Summary Statistics of the columns\n",
    "for column in columns:\n",
    "    print(column,'\\n')\n",
    "    print(df[column].describe())\n",
    "    print('\\n')"
   ]
  },
  {
   "cell_type": "code",
   "execution_count": 8,
   "id": "2846cffa-e915-4d1e-8a7a-c0734dbea8e8",
   "metadata": {},
   "outputs": [
    {
     "data": {
      "text/html": [
       "<div>\n",
       "<style scoped>\n",
       "    .dataframe tbody tr th:only-of-type {\n",
       "        vertical-align: middle;\n",
       "    }\n",
       "\n",
       "    .dataframe tbody tr th {\n",
       "        vertical-align: top;\n",
       "    }\n",
       "\n",
       "    .dataframe thead th {\n",
       "        text-align: right;\n",
       "    }\n",
       "</style>\n",
       "<table border=\"1\" class=\"dataframe\">\n",
       "  <thead>\n",
       "    <tr style=\"text-align: right;\">\n",
       "      <th></th>\n",
       "      <th>Temperature(F)</th>\n",
       "      <th>Accident Cases</th>\n",
       "    </tr>\n",
       "  </thead>\n",
       "  <tbody>\n",
       "    <tr>\n",
       "      <th>0</th>\n",
       "      <td>73.0</td>\n",
       "      <td>63486</td>\n",
       "    </tr>\n",
       "    <tr>\n",
       "      <th>1</th>\n",
       "      <td>77.0</td>\n",
       "      <td>62442</td>\n",
       "    </tr>\n",
       "  </tbody>\n",
       "</table>\n",
       "</div>"
      ],
      "text/plain": [
       "   Temperature(F)  Accident Cases\n",
       "0            73.0           63486\n",
       "1            77.0           62442"
      ]
     },
     "execution_count": 8,
     "metadata": {},
     "output_type": "execute_result"
    }
   ],
   "source": [
    "'''create a dataframe with only temperature and its value counts and\n",
    "filter the dataframe so that only temperatures with more or equal to  1000 accidents are included.'''\n",
    "temp = df['Temperature(F)'].value_counts().reset_index()\n",
    "temp.columns = ['Temperature(F)','Accident Cases']\n",
    "temp = temp[temp['Accident Cases']>=1000]\n",
    "temp.head(2)"
   ]
  },
  {
   "cell_type": "code",
   "execution_count": 9,
   "id": "5982b100-d888-4c0b-acf5-c32e1e892e7f",
   "metadata": {},
   "outputs": [
    {
     "data": {
      "image/png": "[encoded data removed]",
      "text/plain": [
       "<Figure size 864x576 with 1 Axes>"
      ]
     },
     "metadata": {
      "needs_background": "light"
     },
     "output_type": "display_data"
    }
   ],
   "source": [
    "# scatterplot with temperature and accident cases\n",
    "plt.figure(figsize= (12,8))\n",
    "plt.scatter(x= temp['Accident Cases'], y = temp['Temperature(F)'],color ='red')\n",
    "plt.xlabel('Accident Cases')\n",
    "plt.ylabel('Temperature(F)')\n",
    "plt.show();"
   ]
  },
  {
   "cell_type": "markdown",
   "id": "3dd6dffa-b358-4add-86ed-6e078f0523dc",
   "metadata": {},
   "source": [
    "**Interpretation**  \n",
    "Maximum accident cases had the temperature ranging from 40 - 80 degree Fahreheit."
   ]
  },
  {
   "cell_type": "code",
   "execution_count": 10,
   "id": "e57a79ca-15db-4161-8b9c-f51541aac2e3",
   "metadata": {},
   "outputs": [
    {
     "data": {
      "text/html": [
       "<div>\n",
       "<style scoped>\n",
       "    .dataframe tbody tr th:only-of-type {\n",
       "        vertical-align: middle;\n",
       "    }\n",
       "\n",
       "    .dataframe tbody tr th {\n",
       "        vertical-align: top;\n",
       "    }\n",
       "\n",
       "    .dataframe thead th {\n",
       "        text-align: right;\n",
       "    }\n",
       "</style>\n",
       "<table border=\"1\" class=\"dataframe\">\n",
       "  <thead>\n",
       "    <tr style=\"text-align: right;\">\n",
       "      <th></th>\n",
       "      <th>Humidity(%)</th>\n",
       "      <th>Accident Cases</th>\n",
       "    </tr>\n",
       "  </thead>\n",
       "  <tbody>\n",
       "    <tr>\n",
       "      <th>0</th>\n",
       "      <td>93.0</td>\n",
       "      <td>102097</td>\n",
       "    </tr>\n",
       "    <tr>\n",
       "      <th>1</th>\n",
       "      <td>100.0</td>\n",
       "      <td>94865</td>\n",
       "    </tr>\n",
       "  </tbody>\n",
       "</table>\n",
       "</div>"
      ],
      "text/plain": [
       "   Humidity(%)  Accident Cases\n",
       "0         93.0          102097\n",
       "1        100.0           94865"
      ]
     },
     "execution_count": 10,
     "metadata": {},
     "output_type": "execute_result"
    }
   ],
   "source": [
    "'''create a dataframe with  humidity and it value counts and\n",
    "filter the dataframe so that only humidity with more than 500 accidents are included.'''\n",
    "humi = df['Humidity(%)'].value_counts().reset_index()\n",
    "humi.columns = ['Humidity(%)','Accident Cases']\n",
    "humi = humi[humi['Accident Cases']>500]\n",
    "humi.head(2)"
   ]
  },
  {
   "cell_type": "code",
   "execution_count": 11,
   "id": "b46783bc-a59b-475c-9365-616f93669987",
   "metadata": {},
   "outputs": [
    {
     "data": {
      "image/png": "[encoded data removed]",
      "text/plain": [
       "<Figure size 864x576 with 1 Axes>"
      ]
     },
     "metadata": {
      "needs_background": "light"
     },
     "output_type": "display_data"
    }
   ],
   "source": [
    "# scatterplot with humidity and accident cases\n",
    "plt.figure(figsize= (12,8))\n",
    "plt.scatter(x= humi['Accident Cases'], y = humi['Humidity(%)'],color = 'purple')\n",
    "plt.xlabel('Accident Cases')\n",
    "plt.ylabel('Humidity(%)')\n",
    "plt.show();"
   ]
  },
  {
   "cell_type": "code",
   "execution_count": 12,
   "id": "ad64dc18-30e8-46aa-8eda-980874a190d0",
   "metadata": {},
   "outputs": [],
   "source": [
    "'''create a dataframe with pressure, its value counts and\n",
    "filter the dataframe so that only pressure with more than 1000 accidents are included.'''\n",
    "pressure = df['Pressure(in)'].value_counts().reset_index()\n",
    "pressure.columns = ['Pressure(in)','Accident Cases']\n",
    "pressure = pressure[pressure['Accident Cases']>=1000]"
   ]
  },
  {
   "cell_type": "code",
   "execution_count": 13,
   "id": "e3875878-1ab1-4135-9fd3-40df0facad97",
   "metadata": {},
   "outputs": [
    {
     "data": {
      "image/png": "[encoded data removed]",
      "text/plain": [
       "<Figure size 864x576 with 1 Axes>"
      ]
     },
     "metadata": {
      "needs_background": "light"
     },
     "output_type": "display_data"
    }
   ],
   "source": [
    "# scatterplot with humidity and accident cases\n",
    "plt.figure(figsize= (12,8))\n",
    "plt.scatter(x= pressure['Accident Cases'], y = pressure['Pressure(in)'],color = 'green')\n",
    "plt.xlabel('Accident Cases')\n",
    "plt.ylabel('Pressure(in)')\n",
    "plt.show();"
   ]
  },
  {
   "cell_type": "markdown",
   "id": "9b5975b7-3869-4eb0-aa5b-f277e92ab107",
   "metadata": {},
   "source": [
    "**Interpretation**  \n",
    "Maximum accidents which were reported had the air pressure between 28.5 - 29.5 in inches."
   ]
  },
  {
   "cell_type": "code",
   "execution_count": 14,
   "id": "12b1682d-6919-4af3-a006-270decc25dc6",
   "metadata": {},
   "outputs": [
    {
     "data": {
      "image/png": "[encoded data removed]",
      "text/plain": [
       "<Figure size 720x576 with 1 Axes>"
      ]
     },
     "metadata": {
      "needs_background": "light"
     },
     "output_type": "display_data"
    }
   ],
   "source": [
    "# create bar plot for Visibility with top 10 occurences. \n",
    "fig= plt.gcf()\n",
    "fig.set_size_inches(10, 8);\n",
    "df['Visibility(mi)'].value_counts().sort_values(ascending=False).head(12).plot.bar(width=0.65,edgecolor='k',align='center',linewidth=2.5)\n",
    "plt.xlabel('Visibility(mi)',fontsize=14)\n",
    "plt.ylabel('Count',fontsize= 14)\n",
    "plt.title('Accidents count due to Visibility',fontsize=16)\n",
    "plt.show();"
   ]
  },
  {
   "cell_type": "markdown",
   "id": "8d2fbae6-4fbf-4982-9a13-373c5d18c6cb",
   "metadata": {},
   "source": [
    "**Findings**  \n",
    "Above bar plot seems unique in terms of mile visibility. The top most frequent mile visibility was 10 miles."
   ]
  },
  {
   "cell_type": "code",
   "execution_count": 15,
   "id": "16f80443-88c9-4623-a6d8-fab727ffeb56",
   "metadata": {},
   "outputs": [
    {
     "data": {
      "image/png": "[encoded data removed]",
      "text/plain": [
       "<Figure size 720x576 with 1 Axes>"
      ]
     },
     "metadata": {
      "needs_background": "light"
     },
     "output_type": "display_data"
    }
   ],
   "source": [
    "# create bar plot for precipitation with top 10 values \n",
    "fig= plt.gcf()\n",
    "fig.set_size_inches(10, 8);\n",
    "df['Precipitation(in)'].value_counts().sort_values(ascending=False).head(10).plot.bar(width=0.65,edgecolor='k',align='center',linewidth=2.5)\n",
    "plt.xlabel('Precipitation(in)',fontsize=14)\n",
    "plt.ylabel('Count',fontsize= 14)\n",
    "plt.title('Accidents count due to Precipitation(in)',fontsize=16)\n",
    "plt.show();"
   ]
  },
  {
   "cell_type": "code",
   "execution_count": 16,
   "id": "c160af42-b006-458f-8f8a-0217e5ba3908",
   "metadata": {},
   "outputs": [
    {
     "data": {
      "image/png": "[encoded data removed]",
      "text/plain": [
       "<Figure size 864x432 with 1 Axes>"
      ]
     },
     "metadata": {
      "needs_background": "light"
     },
     "output_type": "display_data"
    }
   ],
   "source": [
    "# create wind speed box plot with severity of the accident.\n",
    "plt.figure(figsize=(12,6))\n",
    "sns.boxplot(x='Severity',y='Wind_Speed(mph)',data=df,hue='Severity')\n",
    "plt.ylim(0,100);"
   ]
  },
  {
   "cell_type": "code",
   "execution_count": 36,
   "id": "55c8ff45-f0b5-4f85-ac71-eac02ec2915a",
   "metadata": {},
   "outputs": [
    {
     "data": {
      "image/png": "[encoded data removed]",
      "text/plain": [
       "<Figure size 432x288 with 1 Axes>"
      ]
     },
     "metadata": {
      "needs_background": "light"
     },
     "output_type": "display_data"
    }
   ],
   "source": [
    "# wind speed has many outlier so used median since mean could skew the data.\n",
    "df.groupby('Severity')['Wind_Speed(mph)'].median().plot(kind='bar')\n",
    "plt.ylabel('Wind_Speed(mph)')\n",
    "plt.title(\"Median 'Wind_Speed(mph)' by Severity\")\n",
    "plt.show()"
   ]
  },
  {
   "cell_type": "markdown",
   "id": "f1d53844-1d7a-4be7-af41-ed32d605c3d3",
   "metadata": {},
   "source": [
    "**Findings**  \n",
    "Wind Speed didnt affect the Severity of accident as shown by above bar plot. "
   ]
  },
  {
   "cell_type": "code",
   "execution_count": 35,
   "id": "9ff375fb-b97f-4b2e-a8ea-2ec7cfe56e1b",
   "metadata": {},
   "outputs": [
    {
     "data": {
      "text/plain": [
       "Text(0.5, 1.0, 'Crossing proportion with accident severity')"
      ]
     },
     "execution_count": 35,
     "metadata": {},
     "output_type": "execute_result"
    },
    {
     "data": {
      "image/png": "[encoded data removed]",
      "text/plain": [
       "<Figure size 1152x432 with 3 Axes>"
      ]
     },
     "metadata": {
      "needs_background": "light"
     },
     "output_type": "display_data"
    }
   ],
   "source": [
    "# bar plot for Amenity, Bump and Crossing with Accident Severity Occurences.\n",
    "fig, ax = plt.subplots(1,3, figsize= (16,6))\n",
    "fig.suptitle('Bar plots for Amenity, Bump and Crossing with Accident Severity')\n",
    "sns.barplot(ax=ax[0],x='Severity',y='Amenity',data=df);\n",
    "ax[0].set_title('Amenity proportion with accident severity')\n",
    "sns.barplot(ax=ax[1],x='Severity',y='Bump',data=df)\n",
    "ax[1].set_title('Bump proportion with accident severity')\n",
    "sns.barplot(ax=ax[2],x='Severity',y='Crossing',data=df)\n",
    "ax[2].set_title('Crossing proportion with accident severity')"
   ]
  },
  {
   "cell_type": "markdown",
   "id": "2b822926-23e8-4711-87b7-102329ce68de",
   "metadata": {},
   "source": [
    "**Findings**\n",
    "- The y-axis shows the proportion of accidents with a given severity that have an amenity, bump or crossing present.\n",
    "    - Presence of Amenity in nearby location  show the accident severity of 1 majority of accident cases, but was condusive to accident severity 4.\n",
    "    - If there was presence of speed bump or Bump nearby the accident location there majority of cases had minor accidents.\n",
    "    - Majority of accidents where there was a presence of crossing had severity of 1, followed by 2,3 and 4. Meaning, crossing did have postive effect on accident severity\n",
    "\n"
   ]
  },
  {
   "cell_type": "code",
   "execution_count": null,
   "id": "c6fee82e-8d5c-4b64-97b7-f82ff97b6ed2",
   "metadata": {},
   "outputs": [],
   "source": []
  }
 ],
 "metadata": {
  "kernelspec": {
   "display_name": "Python 3 (ipykernel)",
   "language": "python",
   "name": "python3"
  },
  "language_info": {
   "codemirror_mode": {
    "name": "ipython",
    "version": 3
   },
   "file_extension": ".py",
   "mimetype": "text/x-python",
   "name": "python",
   "nbconvert_exporter": "python",
   "pygments_lexer": "ipython3",
   "version": "3.9.12"
  }
 },
 "nbformat": 4,
 "nbformat_minor": 5
}
